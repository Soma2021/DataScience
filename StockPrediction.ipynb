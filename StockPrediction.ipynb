{
 "cells": [
  {
   "cell_type": "markdown",
   "metadata": {},
   "source": [
    "# _ Linear regression model to predict future stock price_"
   ]
  },
  {
   "cell_type": "markdown",
   "metadata": {},
   "source": [
    "##### Dataset source used: www.quandl.com\n",
    "1. BAC : (Stock symbol for Bank of America) Target Stock for prediction\n",
    "2. SPY ( ETF S&P Index): (SPY.csv)\n",
    "3. VIX (CBOE Volatility Index): (VIX.csv)(The CBOE Volatility Index® (VIX®) is a key measure of market expectations of near-term volatility conveyed by S&P 500 stock index option prices.)\n",
    "4. CBOE S&P 500 Index Option Volume and Put-Call Ratios: (SPX_PC.csv)\n"
   ]
  },
  {
   "cell_type": "code",
   "execution_count": 1,
   "metadata": {
    "collapsed": true
   },
   "outputs": [],
   "source": [
    "import pandas as pd\n",
    "import numpy as np\n",
    "from sklearn.linear_model import LinearRegression\n",
    "from sklearn.cross_validation import train_test_split\n",
    "from sklearn import metrics\n",
    "from sklearn.metrics import mean_squared_error\n",
    "\n",
    "# visualization\n",
    "%matplotlib inline\n",
    "import seaborn as sns\n",
    "import matplotlib.pyplot as plt\n",
    "\n",
    "#make it so that we only show first 4 decimals for floats\n",
    "np.set_printoptions(precision=4,suppress=True)\n",
    "\n",
    "import timeit"
   ]
  },
  {
   "cell_type": "code",
   "execution_count": 2,
   "metadata": {
    "collapsed": false
   },
   "outputs": [],
   "source": [
    "# read data into a DataFrame\n",
    "def get_stockdata(symbol):\n",
    "    df = None\n",
    "    if symbol == 'SPY':\n",
    "        df = pd.read_csv(\"./stockdata/{0}\".format(symbol)+\".csv\",index_col=['Date'],usecols=['Date','Close','Volume'])  \n",
    "        df.columns = ['close','vol']\n",
    "        return df\n",
    "    if symbol == 'VIX':\n",
    "        df = pd.read_csv(\"./stockdata/{0}\".format(symbol)+\".csv\",index_col=['Date'],usecols=['Date','VIX Close'])  \n",
    "        df.columns = ['VIX_close']\n",
    "        return df\n",
    "    if symbol == 'SPX_PC':\n",
    "        df = pd.read_csv(\"./stockdata/{0}\".format(symbol)+\".csv\",index_col=['Date'],usecols=['Date','S&P PUT-CALL RATIO'])  \n",
    "        df.columns = ['put_call_ratio']\n",
    "        return df\n",
    "    if symbol not in ['SPY','VIX']:\n",
    "        df = pd.read_csv(\"./stockdata/{0}\".format(symbol)+\".csv\",index_col=['date'],usecols=['date','adj_close','adj_volume'])\n",
    "        df.columns = ['close','vol']\n",
    "        return df"
   ]
  },
  {
   "cell_type": "code",
   "execution_count": 3,
   "metadata": {
    "collapsed": false
   },
   "outputs": [],
   "source": [
    "# Read csv data in dataframe\n",
    "stock_data = get_stockdata('BAC') # Predict future price of this stock 'BAC'\n",
    "# stock_data = stock_data.sort_index()\n",
    "SPY_data = get_stockdata('SPY') # S&P 500 - gives direction of overall market\n",
    "# SPY_data = SPY_data.sort_index()\n",
    "VIX_data = get_stockdata('VIX') # Volatility index of S&P 500\n",
    "# VIX_data = VIX_data.sort_index()\n",
    "Put_Call_data = get_stockdata('SPX_PC') # put call ratio of S&P 500\n",
    "# Put_Call_data = Put_Call_data.sort_index()"
   ]
  },
  {
   "cell_type": "code",
   "execution_count": 4,
   "metadata": {
    "collapsed": true
   },
   "outputs": [],
   "source": [
    "# Prediction of future stock price on n'th day\n",
    "days_to_look_forward = 5"
   ]
  },
  {
   "cell_type": "code",
   "execution_count": 5,
   "metadata": {
    "collapsed": false
   },
   "outputs": [],
   "source": [
    "stock_data.index = stock_data.index.map(lambda x: pd.to_datetime(x,format=\"%Y-%m-%d\"))\n",
    "SPY_data.index = SPY_data.index.map(lambda x: pd.to_datetime(x,format=\"%Y-%m-%d\"))\n",
    "VIX_data.index = VIX_data.index.map(lambda x: pd.to_datetime(x,format=\"%Y-%m-%d\"))\n",
    "Put_Call_data.index = Put_Call_data.index.map(lambda x: pd.to_datetime(x,format=\"%Y-%m-%d\"))"
   ]
  },
  {
   "cell_type": "code",
   "execution_count": 6,
   "metadata": {
    "collapsed": false
   },
   "outputs": [],
   "source": [
    "# Merge BAC, SPY, VIX and Put_call data\n",
    "stock_data = stock_data.join(SPY_data, how=\"inner\", rsuffix=\"_SPY\")\n",
    "stock_data = stock_data.join(VIX_data, how=\"inner\")\n",
    "stock_data = stock_data.join(Put_Call_data, how=\"left\")\n",
    "\n",
    "stock_data = stock_data.sort_index(ascending=True)"
   ]
  },
  {
   "cell_type": "code",
   "execution_count": 7,
   "metadata": {
    "collapsed": false
   },
   "outputs": [
    {
     "data": {
      "text/html": [
       "<div>\n",
       "<table border=\"1\" class=\"dataframe\">\n",
       "  <thead>\n",
       "    <tr style=\"text-align: right;\">\n",
       "      <th></th>\n",
       "      <th>close</th>\n",
       "      <th>vol</th>\n",
       "      <th>close_SPY</th>\n",
       "      <th>vol_SPY</th>\n",
       "      <th>VIX_close</th>\n",
       "      <th>put_call_ratio</th>\n",
       "    </tr>\n",
       "  </thead>\n",
       "  <tbody>\n",
       "    <tr>\n",
       "      <th>2016-11-10</th>\n",
       "      <td>18.76</td>\n",
       "      <td>303446906.0</td>\n",
       "      <td>216.92</td>\n",
       "      <td>172113313.0</td>\n",
       "      <td>14.74</td>\n",
       "      <td>1.33</td>\n",
       "    </tr>\n",
       "    <tr>\n",
       "      <th>2016-11-11</th>\n",
       "      <td>19.02</td>\n",
       "      <td>212372863.0</td>\n",
       "      <td>216.42</td>\n",
       "      <td>100552732.0</td>\n",
       "      <td>14.17</td>\n",
       "      <td>1.86</td>\n",
       "    </tr>\n",
       "    <tr>\n",
       "      <th>2016-11-14</th>\n",
       "      <td>20.08</td>\n",
       "      <td>319185424.0</td>\n",
       "      <td>216.59</td>\n",
       "      <td>94579982.0</td>\n",
       "      <td>14.48</td>\n",
       "      <td>1.24</td>\n",
       "    </tr>\n",
       "    <tr>\n",
       "      <th>2016-11-15</th>\n",
       "      <td>20.16</td>\n",
       "      <td>186692294.0</td>\n",
       "      <td>218.28</td>\n",
       "      <td>91652580.0</td>\n",
       "      <td>13.37</td>\n",
       "      <td>1.35</td>\n",
       "    </tr>\n",
       "    <tr>\n",
       "      <th>2016-11-16</th>\n",
       "      <td>19.75</td>\n",
       "      <td>126063792.0</td>\n",
       "      <td>217.87</td>\n",
       "      <td>65617697.0</td>\n",
       "      <td>13.72</td>\n",
       "      <td>1.18</td>\n",
       "    </tr>\n",
       "  </tbody>\n",
       "</table>\n",
       "</div>"
      ],
      "text/plain": [
       "            close          vol  close_SPY      vol_SPY  VIX_close  \\\n",
       "2016-11-10  18.76  303446906.0     216.92  172113313.0      14.74   \n",
       "2016-11-11  19.02  212372863.0     216.42  100552732.0      14.17   \n",
       "2016-11-14  20.08  319185424.0     216.59   94579982.0      14.48   \n",
       "2016-11-15  20.16  186692294.0     218.28   91652580.0      13.37   \n",
       "2016-11-16  19.75  126063792.0     217.87   65617697.0      13.72   \n",
       "\n",
       "            put_call_ratio  \n",
       "2016-11-10            1.33  \n",
       "2016-11-11            1.86  \n",
       "2016-11-14            1.24  \n",
       "2016-11-15            1.35  \n",
       "2016-11-16            1.18  "
      ]
     },
     "execution_count": 7,
     "metadata": {},
     "output_type": "execute_result"
    }
   ],
   "source": [
    "stock_data.tail()"
   ]
  },
  {
   "cell_type": "code",
   "execution_count": 8,
   "metadata": {
    "collapsed": false
   },
   "outputs": [
    {
     "name": "stderr",
     "output_type": "stream",
     "text": [
      "/home/sunil/anaconda2/lib/python2.7/site-packages/ipykernel/__main__.py:3: SettingWithCopyWarning: \n",
      "A value is trying to be set on a copy of a slice from a DataFrame\n",
      "\n",
      "See the caveats in the documentation: http://pandas.pydata.org/pandas-docs/stable/indexing.html#indexing-view-versus-copy\n",
      "  app.launch_new_instance()\n",
      "/home/sunil/anaconda2/lib/python2.7/site-packages/ipykernel/__main__.py:6: SettingWithCopyWarning: \n",
      "A value is trying to be set on a copy of a slice from a DataFrame\n",
      "\n",
      "See the caveats in the documentation: http://pandas.pydata.org/pandas-docs/stable/indexing.html#indexing-view-versus-copy\n"
     ]
    }
   ],
   "source": [
    "# Target variable 'y' is the stock price after certain days = n days\n",
    "stock_data[\"future_date\"]=pd.datetime(1900,1,1) # Initialize\n",
    "stock_data[\"future_date\"][:-days_to_look_forward] = stock_data.index[days_to_look_forward:]\n",
    "\n",
    "stock_data[\"future_price\"]=-1 # Initialize\n",
    "stock_data[\"future_price\"][:-days_to_look_forward] = stock_data[\"close\"][days_to_look_forward:]\n",
    "\n",
    "#note: date of 1900-01-01 and future price of -1 signifies the lack of sufficient prod data"
   ]
  },
  {
   "cell_type": "code",
   "execution_count": 9,
   "metadata": {
    "collapsed": false
   },
   "outputs": [
    {
     "name": "stdout",
     "output_type": "stream",
     "text": [
      "close                    float64\n",
      "vol                      float64\n",
      "close_SPY                float64\n",
      "vol_SPY                  float64\n",
      "VIX_close                float64\n",
      "put_call_ratio           float64\n",
      "future_date       datetime64[ns]\n",
      "future_price             float64\n",
      "dtype: object\n"
     ]
    },
    {
     "data": {
      "text/html": [
       "<div>\n",
       "<table border=\"1\" class=\"dataframe\">\n",
       "  <thead>\n",
       "    <tr style=\"text-align: right;\">\n",
       "      <th></th>\n",
       "      <th>close</th>\n",
       "      <th>vol</th>\n",
       "      <th>close_SPY</th>\n",
       "      <th>vol_SPY</th>\n",
       "      <th>VIX_close</th>\n",
       "      <th>put_call_ratio</th>\n",
       "      <th>future_date</th>\n",
       "      <th>future_price</th>\n",
       "    </tr>\n",
       "  </thead>\n",
       "  <tbody>\n",
       "    <tr>\n",
       "      <th>2016-10-18</th>\n",
       "      <td>16.26</td>\n",
       "      <td>69541795.0</td>\n",
       "      <td>213.71</td>\n",
       "      <td>76869656.0</td>\n",
       "      <td>15.28</td>\n",
       "      <td>1.48</td>\n",
       "      <td>2016-10-25</td>\n",
       "      <td>16.72</td>\n",
       "    </tr>\n",
       "    <tr>\n",
       "      <th>2016-10-19</th>\n",
       "      <td>16.47</td>\n",
       "      <td>96067710.0</td>\n",
       "      <td>214.28</td>\n",
       "      <td>66519224.0</td>\n",
       "      <td>14.41</td>\n",
       "      <td>1.57</td>\n",
       "      <td>2016-10-26</td>\n",
       "      <td>16.87</td>\n",
       "    </tr>\n",
       "    <tr>\n",
       "      <th>2016-10-20</th>\n",
       "      <td>16.56</td>\n",
       "      <td>87359023.0</td>\n",
       "      <td>213.88</td>\n",
       "      <td>73639830.0</td>\n",
       "      <td>13.75</td>\n",
       "      <td>1.46</td>\n",
       "      <td>2016-10-27</td>\n",
       "      <td>16.91</td>\n",
       "    </tr>\n",
       "    <tr>\n",
       "      <th>2016-10-21</th>\n",
       "      <td>16.67</td>\n",
       "      <td>72848885.0</td>\n",
       "      <td>213.98</td>\n",
       "      <td>89089092.0</td>\n",
       "      <td>13.34</td>\n",
       "      <td>1.96</td>\n",
       "      <td>2016-10-28</td>\n",
       "      <td>16.68</td>\n",
       "    </tr>\n",
       "    <tr>\n",
       "      <th>2016-10-24</th>\n",
       "      <td>16.77</td>\n",
       "      <td>65295884.0</td>\n",
       "      <td>214.89</td>\n",
       "      <td>60146592.0</td>\n",
       "      <td>13.02</td>\n",
       "      <td>2.22</td>\n",
       "      <td>2016-10-31</td>\n",
       "      <td>16.50</td>\n",
       "    </tr>\n",
       "  </tbody>\n",
       "</table>\n",
       "</div>"
      ],
      "text/plain": [
       "            close         vol  close_SPY     vol_SPY  VIX_close  \\\n",
       "2016-10-18  16.26  69541795.0     213.71  76869656.0      15.28   \n",
       "2016-10-19  16.47  96067710.0     214.28  66519224.0      14.41   \n",
       "2016-10-20  16.56  87359023.0     213.88  73639830.0      13.75   \n",
       "2016-10-21  16.67  72848885.0     213.98  89089092.0      13.34   \n",
       "2016-10-24  16.77  65295884.0     214.89  60146592.0      13.02   \n",
       "\n",
       "            put_call_ratio future_date  future_price  \n",
       "2016-10-18            1.48  2016-10-25         16.72  \n",
       "2016-10-19            1.57  2016-10-26         16.87  \n",
       "2016-10-20            1.46  2016-10-27         16.91  \n",
       "2016-10-21            1.96  2016-10-28         16.68  \n",
       "2016-10-24            2.22  2016-10-31         16.50  "
      ]
     },
     "execution_count": 9,
     "metadata": {},
     "output_type": "execute_result"
    }
   ],
   "source": [
    "print stock_data.dtypes\n",
    "stock_data[-22:].head()"
   ]
  },
  {
   "cell_type": "code",
   "execution_count": 10,
   "metadata": {
    "collapsed": false
   },
   "outputs": [
    {
     "data": {
      "text/html": [
       "<div>\n",
       "<table border=\"1\" class=\"dataframe\">\n",
       "  <thead>\n",
       "    <tr style=\"text-align: right;\">\n",
       "      <th></th>\n",
       "      <th>close</th>\n",
       "      <th>vol</th>\n",
       "      <th>close_SPY</th>\n",
       "      <th>vol_SPY</th>\n",
       "      <th>VIX_close</th>\n",
       "      <th>put_call_ratio</th>\n",
       "      <th>future_date</th>\n",
       "      <th>future_price</th>\n",
       "    </tr>\n",
       "  </thead>\n",
       "  <tbody>\n",
       "    <tr>\n",
       "      <th>2016-11-10</th>\n",
       "      <td>18.76</td>\n",
       "      <td>303446906.0</td>\n",
       "      <td>216.92</td>\n",
       "      <td>172113313.0</td>\n",
       "      <td>14.74</td>\n",
       "      <td>1.33</td>\n",
       "      <td>1900-01-01</td>\n",
       "      <td>-1.0</td>\n",
       "    </tr>\n",
       "    <tr>\n",
       "      <th>2016-11-11</th>\n",
       "      <td>19.02</td>\n",
       "      <td>212372863.0</td>\n",
       "      <td>216.42</td>\n",
       "      <td>100552732.0</td>\n",
       "      <td>14.17</td>\n",
       "      <td>1.86</td>\n",
       "      <td>1900-01-01</td>\n",
       "      <td>-1.0</td>\n",
       "    </tr>\n",
       "    <tr>\n",
       "      <th>2016-11-14</th>\n",
       "      <td>20.08</td>\n",
       "      <td>319185424.0</td>\n",
       "      <td>216.59</td>\n",
       "      <td>94579982.0</td>\n",
       "      <td>14.48</td>\n",
       "      <td>1.24</td>\n",
       "      <td>1900-01-01</td>\n",
       "      <td>-1.0</td>\n",
       "    </tr>\n",
       "    <tr>\n",
       "      <th>2016-11-15</th>\n",
       "      <td>20.16</td>\n",
       "      <td>186692294.0</td>\n",
       "      <td>218.28</td>\n",
       "      <td>91652580.0</td>\n",
       "      <td>13.37</td>\n",
       "      <td>1.35</td>\n",
       "      <td>1900-01-01</td>\n",
       "      <td>-1.0</td>\n",
       "    </tr>\n",
       "    <tr>\n",
       "      <th>2016-11-16</th>\n",
       "      <td>19.75</td>\n",
       "      <td>126063792.0</td>\n",
       "      <td>217.87</td>\n",
       "      <td>65617697.0</td>\n",
       "      <td>13.72</td>\n",
       "      <td>1.18</td>\n",
       "      <td>1900-01-01</td>\n",
       "      <td>-1.0</td>\n",
       "    </tr>\n",
       "  </tbody>\n",
       "</table>\n",
       "</div>"
      ],
      "text/plain": [
       "            close          vol  close_SPY      vol_SPY  VIX_close  \\\n",
       "2016-11-10  18.76  303446906.0     216.92  172113313.0      14.74   \n",
       "2016-11-11  19.02  212372863.0     216.42  100552732.0      14.17   \n",
       "2016-11-14  20.08  319185424.0     216.59   94579982.0      14.48   \n",
       "2016-11-15  20.16  186692294.0     218.28   91652580.0      13.37   \n",
       "2016-11-16  19.75  126063792.0     217.87   65617697.0      13.72   \n",
       "\n",
       "            put_call_ratio future_date  future_price  \n",
       "2016-11-10            1.33  1900-01-01          -1.0  \n",
       "2016-11-11            1.86  1900-01-01          -1.0  \n",
       "2016-11-14            1.24  1900-01-01          -1.0  \n",
       "2016-11-15            1.35  1900-01-01          -1.0  \n",
       "2016-11-16            1.18  1900-01-01          -1.0  "
      ]
     },
     "execution_count": 10,
     "metadata": {},
     "output_type": "execute_result"
    }
   ],
   "source": [
    "stock_data[-days_to_look_forward-1:].tail() #ix['2016-10-19':'2016-10-20']"
   ]
  },
  {
   "cell_type": "code",
   "execution_count": 11,
   "metadata": {
    "collapsed": false
   },
   "outputs": [
    {
     "name": "stderr",
     "output_type": "stream",
     "text": [
      "/home/sunil/anaconda2/lib/python2.7/site-packages/ipykernel/__main__.py:3: SettingWithCopyWarning: \n",
      "A value is trying to be set on a copy of a slice from a DataFrame\n",
      "\n",
      "See the caveats in the documentation: http://pandas.pydata.org/pandas-docs/stable/indexing.html#indexing-view-versus-copy\n",
      "  app.launch_new_instance()\n"
     ]
    }
   ],
   "source": [
    "# Features variables X\n",
    "stock_data[\"daily_return\"]=0.000000001\n",
    "stock_data[\"daily_return\"][1:]=np.log(stock_data[\"close\"][1:]/stock_data[\"close\"][:-1].values)  #- 1"
   ]
  },
  {
   "cell_type": "code",
   "execution_count": 12,
   "metadata": {
    "collapsed": false
   },
   "outputs": [
    {
     "data": {
      "text/plain": [
       "2016-11-10    0.043023\n",
       "2016-11-11    0.013764\n",
       "2016-11-14    0.054233\n",
       "2016-11-15    0.003976\n",
       "2016-11-16   -0.020547\n",
       "Name: daily_return, dtype: float64"
      ]
     },
     "execution_count": 12,
     "metadata": {},
     "output_type": "execute_result"
    }
   ],
   "source": [
    "stock_data[\"daily_return\"].tail()"
   ]
  },
  {
   "cell_type": "code",
   "execution_count": 13,
   "metadata": {
    "collapsed": false
   },
   "outputs": [
    {
     "name": "stderr",
     "output_type": "stream",
     "text": [
      "/home/sunil/anaconda2/lib/python2.7/site-packages/ipykernel/__main__.py:2: FutureWarning: pd.rolling_mean is deprecated for Series and will be removed in a future version, replace with \n",
      "\tSeries.rolling(window=5,center=False).mean()\n",
      "  from ipykernel import kernelapp as app\n",
      "/home/sunil/anaconda2/lib/python2.7/site-packages/ipykernel/__main__.py:3: FutureWarning: pd.rolling_std is deprecated for Series and will be removed in a future version, replace with \n",
      "\tSeries.rolling(window=5,center=False).std()\n",
      "  app.launch_new_instance()\n"
     ]
    }
   ],
   "source": [
    "# Calculate rolling stats of 'close' price using window size of n days\n",
    "stock_data[\"rolling_mean\"]=pd.rolling_mean(stock_data[\"close\"],window=days_to_look_forward)\n",
    "stock_data[\"rolling_sd\"]=pd.rolling_std(stock_data[\"close\"],window=days_to_look_forward)\n",
    "stock_data[\"rolling_mean\"].fillna(0,inplace=True)\n",
    "stock_data[\"rolling_sd\"].fillna(0,inplace=True)"
   ]
  },
  {
   "cell_type": "code",
   "execution_count": 14,
   "metadata": {
    "collapsed": false
   },
   "outputs": [
    {
     "data": {
      "text/html": [
       "<div>\n",
       "<table border=\"1\" class=\"dataframe\">\n",
       "  <thead>\n",
       "    <tr style=\"text-align: right;\">\n",
       "      <th></th>\n",
       "      <th>close</th>\n",
       "      <th>vol</th>\n",
       "      <th>close_SPY</th>\n",
       "      <th>vol_SPY</th>\n",
       "      <th>VIX_close</th>\n",
       "      <th>put_call_ratio</th>\n",
       "      <th>future_date</th>\n",
       "      <th>future_price</th>\n",
       "      <th>daily_return</th>\n",
       "      <th>rolling_mean</th>\n",
       "      <th>rolling_sd</th>\n",
       "    </tr>\n",
       "  </thead>\n",
       "  <tbody>\n",
       "    <tr>\n",
       "      <th>2016-11-10</th>\n",
       "      <td>18.76</td>\n",
       "      <td>303446906.0</td>\n",
       "      <td>216.92</td>\n",
       "      <td>172113313.0</td>\n",
       "      <td>14.74</td>\n",
       "      <td>1.33</td>\n",
       "      <td>1900-01-01</td>\n",
       "      <td>-1.0</td>\n",
       "      <td>0.043023</td>\n",
       "      <td>17.458</td>\n",
       "      <td>0.893348</td>\n",
       "    </tr>\n",
       "    <tr>\n",
       "      <th>2016-11-11</th>\n",
       "      <td>19.02</td>\n",
       "      <td>212372863.0</td>\n",
       "      <td>216.42</td>\n",
       "      <td>100552732.0</td>\n",
       "      <td>14.17</td>\n",
       "      <td>1.86</td>\n",
       "      <td>1900-01-01</td>\n",
       "      <td>-1.0</td>\n",
       "      <td>0.013764</td>\n",
       "      <td>17.952</td>\n",
       "      <td>0.947032</td>\n",
       "    </tr>\n",
       "    <tr>\n",
       "      <th>2016-11-14</th>\n",
       "      <td>20.08</td>\n",
       "      <td>319185424.0</td>\n",
       "      <td>216.59</td>\n",
       "      <td>94579982.0</td>\n",
       "      <td>14.48</td>\n",
       "      <td>1.24</td>\n",
       "      <td>1900-01-01</td>\n",
       "      <td>-1.0</td>\n",
       "      <td>0.054233</td>\n",
       "      <td>18.566</td>\n",
       "      <td>1.155803</td>\n",
       "    </tr>\n",
       "    <tr>\n",
       "      <th>2016-11-15</th>\n",
       "      <td>20.16</td>\n",
       "      <td>186692294.0</td>\n",
       "      <td>218.28</td>\n",
       "      <td>91652580.0</td>\n",
       "      <td>13.37</td>\n",
       "      <td>1.35</td>\n",
       "      <td>1900-01-01</td>\n",
       "      <td>-1.0</td>\n",
       "      <td>0.003976</td>\n",
       "      <td>19.198</td>\n",
       "      <td>0.926671</td>\n",
       "    </tr>\n",
       "    <tr>\n",
       "      <th>2016-11-16</th>\n",
       "      <td>19.75</td>\n",
       "      <td>126063792.0</td>\n",
       "      <td>217.87</td>\n",
       "      <td>65617697.0</td>\n",
       "      <td>13.72</td>\n",
       "      <td>1.18</td>\n",
       "      <td>1900-01-01</td>\n",
       "      <td>-1.0</td>\n",
       "      <td>-0.020547</td>\n",
       "      <td>19.554</td>\n",
       "      <td>0.632044</td>\n",
       "    </tr>\n",
       "  </tbody>\n",
       "</table>\n",
       "</div>"
      ],
      "text/plain": [
       "            close          vol  close_SPY      vol_SPY  VIX_close  \\\n",
       "2016-11-10  18.76  303446906.0     216.92  172113313.0      14.74   \n",
       "2016-11-11  19.02  212372863.0     216.42  100552732.0      14.17   \n",
       "2016-11-14  20.08  319185424.0     216.59   94579982.0      14.48   \n",
       "2016-11-15  20.16  186692294.0     218.28   91652580.0      13.37   \n",
       "2016-11-16  19.75  126063792.0     217.87   65617697.0      13.72   \n",
       "\n",
       "            put_call_ratio future_date  future_price  daily_return  \\\n",
       "2016-11-10            1.33  1900-01-01          -1.0      0.043023   \n",
       "2016-11-11            1.86  1900-01-01          -1.0      0.013764   \n",
       "2016-11-14            1.24  1900-01-01          -1.0      0.054233   \n",
       "2016-11-15            1.35  1900-01-01          -1.0      0.003976   \n",
       "2016-11-16            1.18  1900-01-01          -1.0     -0.020547   \n",
       "\n",
       "            rolling_mean  rolling_sd  \n",
       "2016-11-10        17.458    0.893348  \n",
       "2016-11-11        17.952    0.947032  \n",
       "2016-11-14        18.566    1.155803  \n",
       "2016-11-15        19.198    0.926671  \n",
       "2016-11-16        19.554    0.632044  "
      ]
     },
     "execution_count": 14,
     "metadata": {},
     "output_type": "execute_result"
    }
   ],
   "source": [
    "stock_data.tail()"
   ]
  },
  {
   "cell_type": "code",
   "execution_count": 15,
   "metadata": {
    "collapsed": true
   },
   "outputs": [],
   "source": [
    "# One of the features used - \"Bollinger Bands\"\n",
    "# A simple way to interpret in our case -- buy when price touches the lower Bollinger Band and exit when price \n",
    "#   touches the moving average in the center of the bands. \n",
    "def get_bollinger_bands(x):\n",
    "    upper_band, lower_band = x[\"rolling_mean\"] + 2*x[\"rolling_sd\"], x[\"rolling_mean\"] - 2*x[\"rolling_sd\"]\n",
    "    return upper_band, lower_band"
   ]
  },
  {
   "cell_type": "code",
   "execution_count": 16,
   "metadata": {
    "collapsed": false
   },
   "outputs": [],
   "source": [
    "stock_data[\"bollinger_band\"]=stock_data[[\"rolling_mean\",\"rolling_sd\"]].apply(get_bollinger_bands,axis=1)\n",
    "stock_data[\"upper_bollinger_band\"]=stock_data[\"bollinger_band\"].apply(lambda x: x[0])\n",
    "stock_data[\"lower_bollinger_band\"]=stock_data[\"bollinger_band\"].apply(lambda x: x[1])\n",
    "stock_data = stock_data.drop(\"bollinger_band\", axis = 1)"
   ]
  },
  {
   "cell_type": "code",
   "execution_count": 17,
   "metadata": {
    "collapsed": false
   },
   "outputs": [],
   "source": [
    "# Backfill put_call_ratio (with first known value)\n",
    "stock_data.fillna(method=\"bfill\",inplace=True)"
   ]
  },
  {
   "cell_type": "code",
   "execution_count": 18,
   "metadata": {
    "collapsed": false
   },
   "outputs": [
    {
     "data": {
      "text/html": [
       "<div>\n",
       "<table border=\"1\" class=\"dataframe\">\n",
       "  <thead>\n",
       "    <tr style=\"text-align: right;\">\n",
       "      <th></th>\n",
       "      <th>close</th>\n",
       "      <th>vol</th>\n",
       "      <th>close_SPY</th>\n",
       "      <th>vol_SPY</th>\n",
       "      <th>VIX_close</th>\n",
       "      <th>put_call_ratio</th>\n",
       "      <th>future_date</th>\n",
       "      <th>future_price</th>\n",
       "      <th>daily_return</th>\n",
       "      <th>rolling_mean</th>\n",
       "      <th>rolling_sd</th>\n",
       "      <th>upper_bollinger_band</th>\n",
       "      <th>lower_bollinger_band</th>\n",
       "    </tr>\n",
       "  </thead>\n",
       "  <tbody>\n",
       "    <tr>\n",
       "      <th>2016-10-18</th>\n",
       "      <td>16.26</td>\n",
       "      <td>69541795.0</td>\n",
       "      <td>213.71</td>\n",
       "      <td>76869656.0</td>\n",
       "      <td>15.28</td>\n",
       "      <td>1.48</td>\n",
       "      <td>2016-10-25</td>\n",
       "      <td>16.72</td>\n",
       "      <td>0.012999</td>\n",
       "      <td>16.034</td>\n",
       "      <td>0.153395</td>\n",
       "      <td>16.340790</td>\n",
       "      <td>15.727210</td>\n",
       "    </tr>\n",
       "    <tr>\n",
       "      <th>2016-10-19</th>\n",
       "      <td>16.47</td>\n",
       "      <td>96067710.0</td>\n",
       "      <td>214.28</td>\n",
       "      <td>66519224.0</td>\n",
       "      <td>14.41</td>\n",
       "      <td>1.57</td>\n",
       "      <td>2016-10-26</td>\n",
       "      <td>16.87</td>\n",
       "      <td>0.012832</td>\n",
       "      <td>16.122</td>\n",
       "      <td>0.247730</td>\n",
       "      <td>16.617459</td>\n",
       "      <td>15.626541</td>\n",
       "    </tr>\n",
       "    <tr>\n",
       "      <th>2016-10-20</th>\n",
       "      <td>16.56</td>\n",
       "      <td>87359023.0</td>\n",
       "      <td>213.88</td>\n",
       "      <td>73639830.0</td>\n",
       "      <td>13.75</td>\n",
       "      <td>1.46</td>\n",
       "      <td>2016-10-27</td>\n",
       "      <td>16.91</td>\n",
       "      <td>0.005450</td>\n",
       "      <td>16.268</td>\n",
       "      <td>0.247730</td>\n",
       "      <td>16.763459</td>\n",
       "      <td>15.772541</td>\n",
       "    </tr>\n",
       "    <tr>\n",
       "      <th>2016-10-21</th>\n",
       "      <td>16.67</td>\n",
       "      <td>72848885.0</td>\n",
       "      <td>213.98</td>\n",
       "      <td>89089092.0</td>\n",
       "      <td>13.34</td>\n",
       "      <td>1.96</td>\n",
       "      <td>2016-10-28</td>\n",
       "      <td>16.68</td>\n",
       "      <td>0.006621</td>\n",
       "      <td>16.402</td>\n",
       "      <td>0.247730</td>\n",
       "      <td>16.897459</td>\n",
       "      <td>15.906541</td>\n",
       "    </tr>\n",
       "    <tr>\n",
       "      <th>2016-10-24</th>\n",
       "      <td>16.77</td>\n",
       "      <td>65295884.0</td>\n",
       "      <td>214.89</td>\n",
       "      <td>60146592.0</td>\n",
       "      <td>13.02</td>\n",
       "      <td>2.22</td>\n",
       "      <td>2016-10-31</td>\n",
       "      <td>16.50</td>\n",
       "      <td>0.005981</td>\n",
       "      <td>16.546</td>\n",
       "      <td>0.195780</td>\n",
       "      <td>16.937561</td>\n",
       "      <td>16.154439</td>\n",
       "    </tr>\n",
       "  </tbody>\n",
       "</table>\n",
       "</div>"
      ],
      "text/plain": [
       "            close         vol  close_SPY     vol_SPY  VIX_close  \\\n",
       "2016-10-18  16.26  69541795.0     213.71  76869656.0      15.28   \n",
       "2016-10-19  16.47  96067710.0     214.28  66519224.0      14.41   \n",
       "2016-10-20  16.56  87359023.0     213.88  73639830.0      13.75   \n",
       "2016-10-21  16.67  72848885.0     213.98  89089092.0      13.34   \n",
       "2016-10-24  16.77  65295884.0     214.89  60146592.0      13.02   \n",
       "\n",
       "            put_call_ratio future_date  future_price  daily_return  \\\n",
       "2016-10-18            1.48  2016-10-25         16.72      0.012999   \n",
       "2016-10-19            1.57  2016-10-26         16.87      0.012832   \n",
       "2016-10-20            1.46  2016-10-27         16.91      0.005450   \n",
       "2016-10-21            1.96  2016-10-28         16.68      0.006621   \n",
       "2016-10-24            2.22  2016-10-31         16.50      0.005981   \n",
       "\n",
       "            rolling_mean  rolling_sd  upper_bollinger_band  \\\n",
       "2016-10-18        16.034    0.153395             16.340790   \n",
       "2016-10-19        16.122    0.247730             16.617459   \n",
       "2016-10-20        16.268    0.247730             16.763459   \n",
       "2016-10-21        16.402    0.247730             16.897459   \n",
       "2016-10-24        16.546    0.195780             16.937561   \n",
       "\n",
       "            lower_bollinger_band  \n",
       "2016-10-18             15.727210  \n",
       "2016-10-19             15.626541  \n",
       "2016-10-20             15.772541  \n",
       "2016-10-21             15.906541  \n",
       "2016-10-24             16.154439  "
      ]
     },
     "execution_count": 18,
     "metadata": {},
     "output_type": "execute_result"
    }
   ],
   "source": [
    "stock_data[-22:].head()"
   ]
  },
  {
   "cell_type": "code",
   "execution_count": 19,
   "metadata": {
    "collapsed": false
   },
   "outputs": [
    {
     "data": {
      "text/html": [
       "<div>\n",
       "<table border=\"1\" class=\"dataframe\">\n",
       "  <thead>\n",
       "    <tr style=\"text-align: right;\">\n",
       "      <th></th>\n",
       "      <th>close</th>\n",
       "      <th>vol</th>\n",
       "      <th>close_SPY</th>\n",
       "      <th>vol_SPY</th>\n",
       "      <th>VIX_close</th>\n",
       "      <th>put_call_ratio</th>\n",
       "      <th>future_date</th>\n",
       "      <th>future_price</th>\n",
       "      <th>daily_return</th>\n",
       "      <th>rolling_mean</th>\n",
       "      <th>rolling_sd</th>\n",
       "      <th>upper_bollinger_band</th>\n",
       "      <th>lower_bollinger_band</th>\n",
       "    </tr>\n",
       "  </thead>\n",
       "  <tbody>\n",
       "    <tr>\n",
       "      <th>2004-01-02</th>\n",
       "      <td>29.862675</td>\n",
       "      <td>16897000.0</td>\n",
       "      <td>111.23</td>\n",
       "      <td>34487200.0</td>\n",
       "      <td>18.22</td>\n",
       "      <td>1.91</td>\n",
       "      <td>2004-01-09</td>\n",
       "      <td>29.583267</td>\n",
       "      <td>1.000000e-09</td>\n",
       "      <td>0.000000</td>\n",
       "      <td>0.000000</td>\n",
       "      <td>0.000000</td>\n",
       "      <td>0.000000</td>\n",
       "    </tr>\n",
       "    <tr>\n",
       "      <th>2004-01-05</th>\n",
       "      <td>29.949518</td>\n",
       "      <td>14535400.0</td>\n",
       "      <td>112.44</td>\n",
       "      <td>27160100.0</td>\n",
       "      <td>17.49</td>\n",
       "      <td>1.91</td>\n",
       "      <td>2004-01-12</td>\n",
       "      <td>29.639904</td>\n",
       "      <td>2.903859e-03</td>\n",
       "      <td>0.000000</td>\n",
       "      <td>0.000000</td>\n",
       "      <td>0.000000</td>\n",
       "      <td>0.000000</td>\n",
       "    </tr>\n",
       "    <tr>\n",
       "      <th>2004-01-06</th>\n",
       "      <td>29.900433</td>\n",
       "      <td>15083600.0</td>\n",
       "      <td>112.55</td>\n",
       "      <td>19282500.0</td>\n",
       "      <td>16.73</td>\n",
       "      <td>1.91</td>\n",
       "      <td>2004-01-13</td>\n",
       "      <td>29.564388</td>\n",
       "      <td>-1.640275e-03</td>\n",
       "      <td>0.000000</td>\n",
       "      <td>0.000000</td>\n",
       "      <td>0.000000</td>\n",
       "      <td>0.000000</td>\n",
       "    </tr>\n",
       "    <tr>\n",
       "      <th>2004-01-07</th>\n",
       "      <td>29.832469</td>\n",
       "      <td>13346200.0</td>\n",
       "      <td>112.93</td>\n",
       "      <td>28340200.0</td>\n",
       "      <td>15.50</td>\n",
       "      <td>1.91</td>\n",
       "      <td>2004-01-14</td>\n",
       "      <td>29.923088</td>\n",
       "      <td>-2.275601e-03</td>\n",
       "      <td>0.000000</td>\n",
       "      <td>0.000000</td>\n",
       "      <td>0.000000</td>\n",
       "      <td>0.000000</td>\n",
       "    </tr>\n",
       "    <tr>\n",
       "      <th>2004-01-08</th>\n",
       "      <td>29.847572</td>\n",
       "      <td>13774200.0</td>\n",
       "      <td>113.38</td>\n",
       "      <td>34295500.0</td>\n",
       "      <td>15.61</td>\n",
       "      <td>1.91</td>\n",
       "      <td>2004-01-15</td>\n",
       "      <td>29.707868</td>\n",
       "      <td>5.061369e-04</td>\n",
       "      <td>29.878534</td>\n",
       "      <td>0.047038</td>\n",
       "      <td>29.972611</td>\n",
       "      <td>29.784457</td>\n",
       "    </tr>\n",
       "  </tbody>\n",
       "</table>\n",
       "</div>"
      ],
      "text/plain": [
       "                close         vol  close_SPY     vol_SPY  VIX_close  \\\n",
       "2004-01-02  29.862675  16897000.0     111.23  34487200.0      18.22   \n",
       "2004-01-05  29.949518  14535400.0     112.44  27160100.0      17.49   \n",
       "2004-01-06  29.900433  15083600.0     112.55  19282500.0      16.73   \n",
       "2004-01-07  29.832469  13346200.0     112.93  28340200.0      15.50   \n",
       "2004-01-08  29.847572  13774200.0     113.38  34295500.0      15.61   \n",
       "\n",
       "            put_call_ratio future_date  future_price  daily_return  \\\n",
       "2004-01-02            1.91  2004-01-09     29.583267  1.000000e-09   \n",
       "2004-01-05            1.91  2004-01-12     29.639904  2.903859e-03   \n",
       "2004-01-06            1.91  2004-01-13     29.564388 -1.640275e-03   \n",
       "2004-01-07            1.91  2004-01-14     29.923088 -2.275601e-03   \n",
       "2004-01-08            1.91  2004-01-15     29.707868  5.061369e-04   \n",
       "\n",
       "            rolling_mean  rolling_sd  upper_bollinger_band  \\\n",
       "2004-01-02      0.000000    0.000000              0.000000   \n",
       "2004-01-05      0.000000    0.000000              0.000000   \n",
       "2004-01-06      0.000000    0.000000              0.000000   \n",
       "2004-01-07      0.000000    0.000000              0.000000   \n",
       "2004-01-08     29.878534    0.047038             29.972611   \n",
       "\n",
       "            lower_bollinger_band  \n",
       "2004-01-02              0.000000  \n",
       "2004-01-05              0.000000  \n",
       "2004-01-06              0.000000  \n",
       "2004-01-07              0.000000  \n",
       "2004-01-08             29.784457  "
      ]
     },
     "execution_count": 19,
     "metadata": {},
     "output_type": "execute_result"
    }
   ],
   "source": [
    "stock_data.head()"
   ]
  },
  {
   "cell_type": "code",
   "execution_count": 20,
   "metadata": {
    "collapsed": false
   },
   "outputs": [
    {
     "data": {
      "text/plain": [
       "['close',\n",
       " 'vol',\n",
       " 'close_SPY',\n",
       " 'vol_SPY',\n",
       " 'VIX_close',\n",
       " 'put_call_ratio',\n",
       " 'daily_return',\n",
       " 'rolling_mean',\n",
       " 'rolling_sd',\n",
       " 'upper_bollinger_band',\n",
       " 'lower_bollinger_band',\n",
       " 'future_date',\n",
       " 'future_price']"
      ]
     },
     "execution_count": 20,
     "metadata": {},
     "output_type": "execute_result"
    }
   ],
   "source": [
    "stock_data = stock_data[stock_data.columns.tolist()[0:6]+stock_data.columns.tolist()[8:]+stock_data.columns.tolist()[6:8]]\n",
    "stock_data.columns.tolist()"
   ]
  },
  {
   "cell_type": "code",
   "execution_count": 21,
   "metadata": {
    "collapsed": false
   },
   "outputs": [
    {
     "data": {
      "text/html": [
       "<div>\n",
       "<table border=\"1\" class=\"dataframe\">\n",
       "  <thead>\n",
       "    <tr style=\"text-align: right;\">\n",
       "      <th></th>\n",
       "      <th>close</th>\n",
       "      <th>vol</th>\n",
       "      <th>close_SPY</th>\n",
       "      <th>vol_SPY</th>\n",
       "      <th>VIX_close</th>\n",
       "      <th>put_call_ratio</th>\n",
       "      <th>daily_return</th>\n",
       "      <th>rolling_mean</th>\n",
       "      <th>rolling_sd</th>\n",
       "      <th>upper_bollinger_band</th>\n",
       "      <th>lower_bollinger_band</th>\n",
       "      <th>future_date</th>\n",
       "      <th>future_price</th>\n",
       "    </tr>\n",
       "  </thead>\n",
       "  <tbody>\n",
       "    <tr>\n",
       "      <th>2016-10-18</th>\n",
       "      <td>16.26</td>\n",
       "      <td>69541795.0</td>\n",
       "      <td>213.71</td>\n",
       "      <td>76869656.0</td>\n",
       "      <td>15.28</td>\n",
       "      <td>1.48</td>\n",
       "      <td>0.012999</td>\n",
       "      <td>16.034</td>\n",
       "      <td>0.153395</td>\n",
       "      <td>16.340790</td>\n",
       "      <td>15.727210</td>\n",
       "      <td>2016-10-25</td>\n",
       "      <td>16.72</td>\n",
       "    </tr>\n",
       "    <tr>\n",
       "      <th>2016-10-19</th>\n",
       "      <td>16.47</td>\n",
       "      <td>96067710.0</td>\n",
       "      <td>214.28</td>\n",
       "      <td>66519224.0</td>\n",
       "      <td>14.41</td>\n",
       "      <td>1.57</td>\n",
       "      <td>0.012832</td>\n",
       "      <td>16.122</td>\n",
       "      <td>0.247730</td>\n",
       "      <td>16.617459</td>\n",
       "      <td>15.626541</td>\n",
       "      <td>2016-10-26</td>\n",
       "      <td>16.87</td>\n",
       "    </tr>\n",
       "    <tr>\n",
       "      <th>2016-10-20</th>\n",
       "      <td>16.56</td>\n",
       "      <td>87359023.0</td>\n",
       "      <td>213.88</td>\n",
       "      <td>73639830.0</td>\n",
       "      <td>13.75</td>\n",
       "      <td>1.46</td>\n",
       "      <td>0.005450</td>\n",
       "      <td>16.268</td>\n",
       "      <td>0.247730</td>\n",
       "      <td>16.763459</td>\n",
       "      <td>15.772541</td>\n",
       "      <td>2016-10-27</td>\n",
       "      <td>16.91</td>\n",
       "    </tr>\n",
       "    <tr>\n",
       "      <th>2016-10-21</th>\n",
       "      <td>16.67</td>\n",
       "      <td>72848885.0</td>\n",
       "      <td>213.98</td>\n",
       "      <td>89089092.0</td>\n",
       "      <td>13.34</td>\n",
       "      <td>1.96</td>\n",
       "      <td>0.006621</td>\n",
       "      <td>16.402</td>\n",
       "      <td>0.247730</td>\n",
       "      <td>16.897459</td>\n",
       "      <td>15.906541</td>\n",
       "      <td>2016-10-28</td>\n",
       "      <td>16.68</td>\n",
       "    </tr>\n",
       "    <tr>\n",
       "      <th>2016-10-24</th>\n",
       "      <td>16.77</td>\n",
       "      <td>65295884.0</td>\n",
       "      <td>214.89</td>\n",
       "      <td>60146592.0</td>\n",
       "      <td>13.02</td>\n",
       "      <td>2.22</td>\n",
       "      <td>0.005981</td>\n",
       "      <td>16.546</td>\n",
       "      <td>0.195780</td>\n",
       "      <td>16.937561</td>\n",
       "      <td>16.154439</td>\n",
       "      <td>2016-10-31</td>\n",
       "      <td>16.50</td>\n",
       "    </tr>\n",
       "  </tbody>\n",
       "</table>\n",
       "</div>"
      ],
      "text/plain": [
       "            close         vol  close_SPY     vol_SPY  VIX_close  \\\n",
       "2016-10-18  16.26  69541795.0     213.71  76869656.0      15.28   \n",
       "2016-10-19  16.47  96067710.0     214.28  66519224.0      14.41   \n",
       "2016-10-20  16.56  87359023.0     213.88  73639830.0      13.75   \n",
       "2016-10-21  16.67  72848885.0     213.98  89089092.0      13.34   \n",
       "2016-10-24  16.77  65295884.0     214.89  60146592.0      13.02   \n",
       "\n",
       "            put_call_ratio  daily_return  rolling_mean  rolling_sd  \\\n",
       "2016-10-18            1.48      0.012999        16.034    0.153395   \n",
       "2016-10-19            1.57      0.012832        16.122    0.247730   \n",
       "2016-10-20            1.46      0.005450        16.268    0.247730   \n",
       "2016-10-21            1.96      0.006621        16.402    0.247730   \n",
       "2016-10-24            2.22      0.005981        16.546    0.195780   \n",
       "\n",
       "            upper_bollinger_band  lower_bollinger_band future_date  \\\n",
       "2016-10-18             16.340790             15.727210  2016-10-25   \n",
       "2016-10-19             16.617459             15.626541  2016-10-26   \n",
       "2016-10-20             16.763459             15.772541  2016-10-27   \n",
       "2016-10-21             16.897459             15.906541  2016-10-28   \n",
       "2016-10-24             16.937561             16.154439  2016-10-31   \n",
       "\n",
       "            future_price  \n",
       "2016-10-18         16.72  \n",
       "2016-10-19         16.87  \n",
       "2016-10-20         16.91  \n",
       "2016-10-21         16.68  \n",
       "2016-10-24         16.50  "
      ]
     },
     "execution_count": 21,
     "metadata": {},
     "output_type": "execute_result"
    }
   ],
   "source": [
    "stock_data[-22:].head()"
   ]
  },
  {
   "cell_type": "code",
   "execution_count": 22,
   "metadata": {
    "collapsed": false
   },
   "outputs": [
    {
     "name": "stdout",
     "output_type": "stream",
     "text": [
      "['close', 'vol', 'close_SPY', 'vol_SPY', 'VIX_close', 'put_call_ratio', 'daily_return', 'rolling_mean', 'rolling_sd', 'upper_bollinger_band', 'lower_bollinger_band']\n"
     ]
    }
   ],
   "source": [
    "#features\n",
    "features_for_scaling = stock_data.columns.tolist()[:-2]\n",
    "print features_for_scaling"
   ]
  },
  {
   "cell_type": "code",
   "execution_count": 23,
   "metadata": {
    "collapsed": false
   },
   "outputs": [],
   "source": [
    "from sklearn.preprocessing import StandardScaler\n",
    "scaler = StandardScaler() #create a scaler object\n",
    "X = stock_data[features_for_scaling]\n",
    "X_scaled = scaler.fit_transform(X)\n",
    "X_scaled = pd.DataFrame(X_scaled,columns=[\"scaled_\"+i for i in features_for_scaling])"
   ]
  },
  {
   "cell_type": "code",
   "execution_count": 24,
   "metadata": {
    "collapsed": false
   },
   "outputs": [
    {
     "data": {
      "text/html": [
       "<div>\n",
       "<table border=\"1\" class=\"dataframe\">\n",
       "  <thead>\n",
       "    <tr style=\"text-align: right;\">\n",
       "      <th></th>\n",
       "      <th>close</th>\n",
       "      <th>vol</th>\n",
       "      <th>close_SPY</th>\n",
       "      <th>vol_SPY</th>\n",
       "      <th>VIX_close</th>\n",
       "      <th>put_call_ratio</th>\n",
       "      <th>daily_return</th>\n",
       "      <th>rolling_mean</th>\n",
       "      <th>rolling_sd</th>\n",
       "      <th>upper_bollinger_band</th>\n",
       "      <th>lower_bollinger_band</th>\n",
       "      <th>future_date</th>\n",
       "      <th>future_price</th>\n",
       "    </tr>\n",
       "  </thead>\n",
       "  <tbody>\n",
       "    <tr>\n",
       "      <th>2004-01-02</th>\n",
       "      <td>29.862675</td>\n",
       "      <td>16897000.0</td>\n",
       "      <td>111.23</td>\n",
       "      <td>34487200.0</td>\n",
       "      <td>18.22</td>\n",
       "      <td>1.91</td>\n",
       "      <td>1.000000e-09</td>\n",
       "      <td>0.000000</td>\n",
       "      <td>0.000000</td>\n",
       "      <td>0.000000</td>\n",
       "      <td>0.000000</td>\n",
       "      <td>2004-01-09</td>\n",
       "      <td>29.583267</td>\n",
       "    </tr>\n",
       "    <tr>\n",
       "      <th>2004-01-05</th>\n",
       "      <td>29.949518</td>\n",
       "      <td>14535400.0</td>\n",
       "      <td>112.44</td>\n",
       "      <td>27160100.0</td>\n",
       "      <td>17.49</td>\n",
       "      <td>1.91</td>\n",
       "      <td>2.903859e-03</td>\n",
       "      <td>0.000000</td>\n",
       "      <td>0.000000</td>\n",
       "      <td>0.000000</td>\n",
       "      <td>0.000000</td>\n",
       "      <td>2004-01-12</td>\n",
       "      <td>29.639904</td>\n",
       "    </tr>\n",
       "    <tr>\n",
       "      <th>2004-01-06</th>\n",
       "      <td>29.900433</td>\n",
       "      <td>15083600.0</td>\n",
       "      <td>112.55</td>\n",
       "      <td>19282500.0</td>\n",
       "      <td>16.73</td>\n",
       "      <td>1.91</td>\n",
       "      <td>-1.640275e-03</td>\n",
       "      <td>0.000000</td>\n",
       "      <td>0.000000</td>\n",
       "      <td>0.000000</td>\n",
       "      <td>0.000000</td>\n",
       "      <td>2004-01-13</td>\n",
       "      <td>29.564388</td>\n",
       "    </tr>\n",
       "    <tr>\n",
       "      <th>2004-01-07</th>\n",
       "      <td>29.832469</td>\n",
       "      <td>13346200.0</td>\n",
       "      <td>112.93</td>\n",
       "      <td>28340200.0</td>\n",
       "      <td>15.50</td>\n",
       "      <td>1.91</td>\n",
       "      <td>-2.275601e-03</td>\n",
       "      <td>0.000000</td>\n",
       "      <td>0.000000</td>\n",
       "      <td>0.000000</td>\n",
       "      <td>0.000000</td>\n",
       "      <td>2004-01-14</td>\n",
       "      <td>29.923088</td>\n",
       "    </tr>\n",
       "    <tr>\n",
       "      <th>2004-01-08</th>\n",
       "      <td>29.847572</td>\n",
       "      <td>13774200.0</td>\n",
       "      <td>113.38</td>\n",
       "      <td>34295500.0</td>\n",
       "      <td>15.61</td>\n",
       "      <td>1.91</td>\n",
       "      <td>5.061369e-04</td>\n",
       "      <td>29.878534</td>\n",
       "      <td>0.047038</td>\n",
       "      <td>29.972611</td>\n",
       "      <td>29.784457</td>\n",
       "      <td>2004-01-15</td>\n",
       "      <td>29.707868</td>\n",
       "    </tr>\n",
       "  </tbody>\n",
       "</table>\n",
       "</div>"
      ],
      "text/plain": [
       "                close         vol  close_SPY     vol_SPY  VIX_close  \\\n",
       "2004-01-02  29.862675  16897000.0     111.23  34487200.0      18.22   \n",
       "2004-01-05  29.949518  14535400.0     112.44  27160100.0      17.49   \n",
       "2004-01-06  29.900433  15083600.0     112.55  19282500.0      16.73   \n",
       "2004-01-07  29.832469  13346200.0     112.93  28340200.0      15.50   \n",
       "2004-01-08  29.847572  13774200.0     113.38  34295500.0      15.61   \n",
       "\n",
       "            put_call_ratio  daily_return  rolling_mean  rolling_sd  \\\n",
       "2004-01-02            1.91  1.000000e-09      0.000000    0.000000   \n",
       "2004-01-05            1.91  2.903859e-03      0.000000    0.000000   \n",
       "2004-01-06            1.91 -1.640275e-03      0.000000    0.000000   \n",
       "2004-01-07            1.91 -2.275601e-03      0.000000    0.000000   \n",
       "2004-01-08            1.91  5.061369e-04     29.878534    0.047038   \n",
       "\n",
       "            upper_bollinger_band  lower_bollinger_band future_date  \\\n",
       "2004-01-02              0.000000              0.000000  2004-01-09   \n",
       "2004-01-05              0.000000              0.000000  2004-01-12   \n",
       "2004-01-06              0.000000              0.000000  2004-01-13   \n",
       "2004-01-07              0.000000              0.000000  2004-01-14   \n",
       "2004-01-08             29.972611             29.784457  2004-01-15   \n",
       "\n",
       "            future_price  \n",
       "2004-01-02     29.583267  \n",
       "2004-01-05     29.639904  \n",
       "2004-01-06     29.564388  \n",
       "2004-01-07     29.923088  \n",
       "2004-01-08     29.707868  "
      ]
     },
     "execution_count": 24,
     "metadata": {},
     "output_type": "execute_result"
    }
   ],
   "source": [
    "stock_data.ix[:23]\n",
    "stock_data.head()\n",
    "# X_scaled.head()"
   ]
  },
  {
   "cell_type": "code",
   "execution_count": 25,
   "metadata": {
    "collapsed": false
   },
   "outputs": [],
   "source": [
    "# Vertical merge the scaled data with original\n",
    "stock_data = stock_data.reset_index()   #To retain the index , which corresponds to Date column\n",
    "stock_data=pd.concat([X_scaled,stock_data],axis=1)"
   ]
  },
  {
   "cell_type": "code",
   "execution_count": 26,
   "metadata": {
    "collapsed": false
   },
   "outputs": [
    {
     "data": {
      "text/plain": [
       "RangeIndex(start=0, stop=3226, step=1)"
      ]
     },
     "execution_count": 26,
     "metadata": {},
     "output_type": "execute_result"
    }
   ],
   "source": [
    "stock_data.index"
   ]
  },
  {
   "cell_type": "code",
   "execution_count": 27,
   "metadata": {
    "collapsed": false
   },
   "outputs": [],
   "source": [
    "# set index\n",
    "stock_data = stock_data.set_index('index')"
   ]
  },
  {
   "cell_type": "code",
   "execution_count": 28,
   "metadata": {
    "collapsed": false
   },
   "outputs": [
    {
     "name": "stdout",
     "output_type": "stream",
     "text": [
      "2016-11-16 00:00:00 2004-01-02 00:00:00\n"
     ]
    }
   ],
   "source": [
    "print stock_data.index.max(), stock_data.index.min()"
   ]
  },
  {
   "cell_type": "code",
   "execution_count": 29,
   "metadata": {
    "collapsed": false
   },
   "outputs": [],
   "source": [
    "# Create a deep copy of stock_data & strip data at both ends according to \"days_to_look_forward\"\n",
    "master_stock_data = stock_data.copy()\n",
    "columns_replaced_with_underscores= [np.str.replace(i,\" \",\"_\") for i in master_stock_data.columns.tolist()]\n",
    "master_stock_data = master_stock_data[columns_replaced_with_underscores]\n",
    "master_stock_data = master_stock_data[days_to_look_forward - 1:-days_to_look_forward]"
   ]
  },
  {
   "cell_type": "code",
   "execution_count": 30,
   "metadata": {
    "collapsed": false
   },
   "outputs": [
    {
     "data": {
      "text/html": [
       "<div>\n",
       "<table border=\"1\" class=\"dataframe\">\n",
       "  <thead>\n",
       "    <tr style=\"text-align: right;\">\n",
       "      <th></th>\n",
       "      <th>scaled_close</th>\n",
       "      <th>scaled_vol</th>\n",
       "      <th>scaled_close_SPY</th>\n",
       "      <th>scaled_vol_SPY</th>\n",
       "      <th>scaled_VIX_close</th>\n",
       "      <th>scaled_put_call_ratio</th>\n",
       "      <th>scaled_daily_return</th>\n",
       "      <th>scaled_rolling_mean</th>\n",
       "      <th>scaled_rolling_sd</th>\n",
       "      <th>scaled_upper_bollinger_band</th>\n",
       "      <th>...</th>\n",
       "      <th>vol_SPY</th>\n",
       "      <th>VIX_close</th>\n",
       "      <th>put_call_ratio</th>\n",
       "      <th>daily_return</th>\n",
       "      <th>rolling_mean</th>\n",
       "      <th>rolling_sd</th>\n",
       "      <th>upper_bollinger_band</th>\n",
       "      <th>lower_bollinger_band</th>\n",
       "      <th>future_date</th>\n",
       "      <th>future_price</th>\n",
       "    </tr>\n",
       "    <tr>\n",
       "      <th>index</th>\n",
       "      <th></th>\n",
       "      <th></th>\n",
       "      <th></th>\n",
       "      <th></th>\n",
       "      <th></th>\n",
       "      <th></th>\n",
       "      <th></th>\n",
       "      <th></th>\n",
       "      <th></th>\n",
       "      <th></th>\n",
       "      <th></th>\n",
       "      <th></th>\n",
       "      <th></th>\n",
       "      <th></th>\n",
       "      <th></th>\n",
       "      <th></th>\n",
       "      <th></th>\n",
       "      <th></th>\n",
       "      <th></th>\n",
       "      <th></th>\n",
       "      <th></th>\n",
       "    </tr>\n",
       "  </thead>\n",
       "  <tbody>\n",
       "    <tr>\n",
       "      <th>2004-01-08</th>\n",
       "      <td>0.641526</td>\n",
       "      <td>-0.807226</td>\n",
       "      <td>-0.843463</td>\n",
       "      <td>-0.752980</td>\n",
       "      <td>-0.390706</td>\n",
       "      <td>0.263057</td>\n",
       "      <td>0.019280</td>\n",
       "      <td>0.645855</td>\n",
       "      <td>-0.728656</td>\n",
       "      <td>0.590862</td>\n",
       "      <td>...</td>\n",
       "      <td>34295500.0</td>\n",
       "      <td>15.61</td>\n",
       "      <td>1.91</td>\n",
       "      <td>0.000506</td>\n",
       "      <td>29.878534</td>\n",
       "      <td>0.047038</td>\n",
       "      <td>29.972611</td>\n",
       "      <td>29.784457</td>\n",
       "      <td>2004-01-15</td>\n",
       "      <td>29.707868</td>\n",
       "    </tr>\n",
       "    <tr>\n",
       "      <th>2004-01-09</th>\n",
       "      <td>0.620060</td>\n",
       "      <td>-0.812149</td>\n",
       "      <td>-0.870865</td>\n",
       "      <td>-0.672058</td>\n",
       "      <td>-0.265755</td>\n",
       "      <td>0.263057</td>\n",
       "      <td>-0.266462</td>\n",
       "      <td>0.641321</td>\n",
       "      <td>-0.497970</td>\n",
       "      <td>0.601549</td>\n",
       "      <td>...</td>\n",
       "      <td>41431900.0</td>\n",
       "      <td>16.75</td>\n",
       "      <td>1.91</td>\n",
       "      <td>-0.008895</td>\n",
       "      <td>29.822652</td>\n",
       "      <td>0.141569</td>\n",
       "      <td>30.105791</td>\n",
       "      <td>29.539514</td>\n",
       "      <td>2004-01-16</td>\n",
       "      <td>29.836245</td>\n",
       "    </tr>\n",
       "    <tr>\n",
       "      <th>2004-01-12</th>\n",
       "      <td>0.624660</td>\n",
       "      <td>-0.831196</td>\n",
       "      <td>-0.848169</td>\n",
       "      <td>-0.794372</td>\n",
       "      <td>-0.258082</td>\n",
       "      <td>0.263057</td>\n",
       "      <td>0.062032</td>\n",
       "      <td>0.636297</td>\n",
       "      <td>-0.502024</td>\n",
       "      <td>0.596314</td>\n",
       "      <td>...</td>\n",
       "      <td>30645300.0</td>\n",
       "      <td>16.82</td>\n",
       "      <td>1.91</td>\n",
       "      <td>0.001913</td>\n",
       "      <td>29.760729</td>\n",
       "      <td>0.139908</td>\n",
       "      <td>30.040545</td>\n",
       "      <td>29.480913</td>\n",
       "      <td>2004-01-20</td>\n",
       "      <td>30.232702</td>\n",
       "    </tr>\n",
       "    <tr>\n",
       "      <th>2004-01-13</th>\n",
       "      <td>0.618526</td>\n",
       "      <td>-0.831997</td>\n",
       "      <td>-0.866159</td>\n",
       "      <td>-0.628947</td>\n",
       "      <td>-0.124362</td>\n",
       "      <td>0.263057</td>\n",
       "      <td>-0.073645</td>\n",
       "      <td>0.630845</td>\n",
       "      <td>-0.509860</td>\n",
       "      <td>0.590405</td>\n",
       "      <td>...</td>\n",
       "      <td>45233800.0</td>\n",
       "      <td>18.04</td>\n",
       "      <td>1.91</td>\n",
       "      <td>-0.002551</td>\n",
       "      <td>29.693520</td>\n",
       "      <td>0.136697</td>\n",
       "      <td>29.966914</td>\n",
       "      <td>29.420126</td>\n",
       "      <td>2004-01-21</td>\n",
       "      <td>30.904792</td>\n",
       "    </tr>\n",
       "    <tr>\n",
       "      <th>2004-01-14</th>\n",
       "      <td>0.647659</td>\n",
       "      <td>-0.814448</td>\n",
       "      <td>-0.839312</td>\n",
       "      <td>-0.843773</td>\n",
       "      <td>-0.265755</td>\n",
       "      <td>0.263057</td>\n",
       "      <td>0.370463</td>\n",
       "      <td>0.632315</td>\n",
       "      <td>-0.445260</td>\n",
       "      <td>0.596108</td>\n",
       "      <td>...</td>\n",
       "      <td>26288700.0</td>\n",
       "      <td>16.75</td>\n",
       "      <td>1.91</td>\n",
       "      <td>0.012060</td>\n",
       "      <td>29.711644</td>\n",
       "      <td>0.163169</td>\n",
       "      <td>30.037982</td>\n",
       "      <td>29.385306</td>\n",
       "      <td>2004-01-22</td>\n",
       "      <td>30.848155</td>\n",
       "    </tr>\n",
       "  </tbody>\n",
       "</table>\n",
       "<p>5 rows × 24 columns</p>\n",
       "</div>"
      ],
      "text/plain": [
       "            scaled_close  scaled_vol  scaled_close_SPY  scaled_vol_SPY  \\\n",
       "index                                                                    \n",
       "2004-01-08      0.641526   -0.807226         -0.843463       -0.752980   \n",
       "2004-01-09      0.620060   -0.812149         -0.870865       -0.672058   \n",
       "2004-01-12      0.624660   -0.831196         -0.848169       -0.794372   \n",
       "2004-01-13      0.618526   -0.831997         -0.866159       -0.628947   \n",
       "2004-01-14      0.647659   -0.814448         -0.839312       -0.843773   \n",
       "\n",
       "            scaled_VIX_close  scaled_put_call_ratio  scaled_daily_return  \\\n",
       "index                                                                      \n",
       "2004-01-08         -0.390706               0.263057             0.019280   \n",
       "2004-01-09         -0.265755               0.263057            -0.266462   \n",
       "2004-01-12         -0.258082               0.263057             0.062032   \n",
       "2004-01-13         -0.124362               0.263057            -0.073645   \n",
       "2004-01-14         -0.265755               0.263057             0.370463   \n",
       "\n",
       "            scaled_rolling_mean  scaled_rolling_sd  \\\n",
       "index                                                \n",
       "2004-01-08             0.645855          -0.728656   \n",
       "2004-01-09             0.641321          -0.497970   \n",
       "2004-01-12             0.636297          -0.502024   \n",
       "2004-01-13             0.630845          -0.509860   \n",
       "2004-01-14             0.632315          -0.445260   \n",
       "\n",
       "            scaled_upper_bollinger_band      ...          vol_SPY  VIX_close  \\\n",
       "index                                        ...                               \n",
       "2004-01-08                     0.590862      ...       34295500.0      15.61   \n",
       "2004-01-09                     0.601549      ...       41431900.0      16.75   \n",
       "2004-01-12                     0.596314      ...       30645300.0      16.82   \n",
       "2004-01-13                     0.590405      ...       45233800.0      18.04   \n",
       "2004-01-14                     0.596108      ...       26288700.0      16.75   \n",
       "\n",
       "            put_call_ratio  daily_return  rolling_mean  rolling_sd  \\\n",
       "index                                                                \n",
       "2004-01-08            1.91      0.000506     29.878534    0.047038   \n",
       "2004-01-09            1.91     -0.008895     29.822652    0.141569   \n",
       "2004-01-12            1.91      0.001913     29.760729    0.139908   \n",
       "2004-01-13            1.91     -0.002551     29.693520    0.136697   \n",
       "2004-01-14            1.91      0.012060     29.711644    0.163169   \n",
       "\n",
       "            upper_bollinger_band  lower_bollinger_band  future_date  \\\n",
       "index                                                                 \n",
       "2004-01-08             29.972611             29.784457   2004-01-15   \n",
       "2004-01-09             30.105791             29.539514   2004-01-16   \n",
       "2004-01-12             30.040545             29.480913   2004-01-20   \n",
       "2004-01-13             29.966914             29.420126   2004-01-21   \n",
       "2004-01-14             30.037982             29.385306   2004-01-22   \n",
       "\n",
       "            future_price  \n",
       "index                     \n",
       "2004-01-08     29.707868  \n",
       "2004-01-09     29.836245  \n",
       "2004-01-12     30.232702  \n",
       "2004-01-13     30.904792  \n",
       "2004-01-14     30.848155  \n",
       "\n",
       "[5 rows x 24 columns]"
      ]
     },
     "execution_count": 30,
     "metadata": {},
     "output_type": "execute_result"
    }
   ],
   "source": [
    "stock_data[16:].head()\n",
    "master_stock_data.head()"
   ]
  },
  {
   "cell_type": "code",
   "execution_count": 31,
   "metadata": {
    "collapsed": true
   },
   "outputs": [],
   "source": [
    "# Split entire data in test/train data and production data\n",
    "prod_data_window = 90\n",
    "\n",
    "# Strip test_train data and prod data according to \"days_to_look_forward\"\n",
    "prod_data = master_stock_data[-prod_data_window:]\n",
    "test_train_data = master_stock_data[:-prod_data_window]"
   ]
  },
  {
   "cell_type": "code",
   "execution_count": 32,
   "metadata": {
    "collapsed": false
   },
   "outputs": [
    {
     "data": {
      "text/plain": [
       "(3127, 24)"
      ]
     },
     "execution_count": 32,
     "metadata": {},
     "output_type": "execute_result"
    }
   ],
   "source": [
    "prod_data.shape\n",
    "test_train_data.shape"
   ]
  },
  {
   "cell_type": "code",
   "execution_count": 33,
   "metadata": {
    "collapsed": false,
    "scrolled": true
   },
   "outputs": [
    {
     "name": "stdout",
     "output_type": "stream",
     "text": [
      "['scaled_close', 'scaled_vol', 'scaled_close_SPY', 'scaled_vol_SPY', 'scaled_VIX_close', 'scaled_put_call_ratio', 'scaled_daily_return', 'scaled_rolling_mean', 'scaled_rolling_sd', 'scaled_upper_bollinger_band', 'scaled_lower_bollinger_band']\n"
     ]
    }
   ],
   "source": [
    "# Stock features\n",
    "X_features = [i for i in test_train_data.columns.tolist() if 'scaled' in i]\n",
    "print X_features"
   ]
  },
  {
   "cell_type": "code",
   "execution_count": 34,
   "metadata": {
    "collapsed": true
   },
   "outputs": [],
   "source": [
    "# Stock features & target\n",
    "X = test_train_data[X_features]\n",
    "y = test_train_data.future_price\n",
    "prod_X = prod_data[X_features]"
   ]
  },
  {
   "cell_type": "code",
   "execution_count": 35,
   "metadata": {
    "collapsed": false
   },
   "outputs": [
    {
     "name": "stdout",
     "output_type": "stream",
     "text": [
      "Using LinearRegression to predict\n",
      "training data size: (2814, 11)\n",
      "testing data size: (313, 11)\n",
      "Prediction set RMSE: 1.11662843181\n"
     ]
    }
   ],
   "source": [
    "# Stock features & target\n",
    "print \"Using LinearRegression to predict\"\n",
    "from sklearn.linear_model import LinearRegression\n",
    "\n",
    "import timeit\n",
    "start_time_pgm = timeit.default_timer()\n",
    "\n",
    "X_mult_train, X_mult_test, y_mult_train, y_mult_test = train_test_split(X, y, test_size=0.1, random_state=1)\n",
    "print \"training data size:\",X_mult_train.shape\n",
    "print \"testing data size:\",X_mult_test.shape\n",
    "#train on training set\n",
    "mult_linreg1 = LinearRegression()\n",
    "mult_linreg1.fit(X_mult_train, y_mult_train)\n",
    "\n",
    "#generate predictions on test set and evaluate\n",
    "y_mult_pred_test = mult_linreg1.predict(X_mult_test)\n",
    "print \"Prediction set RMSE:\",np.sqrt(np.abs(metrics.mean_squared_error(y_mult_test, y_mult_pred_test)))"
   ]
  },
  {
   "cell_type": "code",
   "execution_count": 36,
   "metadata": {
    "collapsed": false,
    "scrolled": false
   },
   "outputs": [
    {
     "name": "stdout",
     "output_type": "stream",
     "text": [
      "prod_data_preds - RMSE: 0.860686449129\n"
     ]
    },
    {
     "name": "stderr",
     "output_type": "stream",
     "text": [
      "/home/sunil/anaconda2/lib/python2.7/site-packages/ipykernel/__main__.py:5: SettingWithCopyWarning: \n",
      "A value is trying to be set on a copy of a slice from a DataFrame.\n",
      "Try using .loc[row_indexer,col_indexer] = value instead\n",
      "\n",
      "See the caveats in the documentation: http://pandas.pydata.org/pandas-docs/stable/indexing.html#indexing-view-versus-copy\n"
     ]
    }
   ],
   "source": [
    "prod_data_preds = mult_linreg1.predict(prod_X)\n",
    "print \"prod_data_preds - RMSE:\",np.sqrt(np.abs(mean_squared_error(prod_data.future_price,prod_data_preds)))\n",
    "\n",
    "# Add new column predictor to prod_data (with least RMSE)\n",
    "prod_data[\"predicted_price\"]=prod_data_preds"
   ]
  },
  {
   "cell_type": "code",
   "execution_count": 37,
   "metadata": {
    "collapsed": false
   },
   "outputs": [
    {
     "data": {
      "text/html": [
       "<div>\n",
       "<table border=\"1\" class=\"dataframe\">\n",
       "  <thead>\n",
       "    <tr style=\"text-align: right;\">\n",
       "      <th></th>\n",
       "      <th>index</th>\n",
       "      <th>future_date</th>\n",
       "      <th>future_price</th>\n",
       "      <th>predicted_price</th>\n",
       "    </tr>\n",
       "  </thead>\n",
       "  <tbody>\n",
       "    <tr>\n",
       "      <th>0</th>\n",
       "      <td>2016-07-06</td>\n",
       "      <td>2016-07-13</td>\n",
       "      <td>13.377835</td>\n",
       "      <td>12.806325</td>\n",
       "    </tr>\n",
       "    <tr>\n",
       "      <th>1</th>\n",
       "      <td>2016-07-07</td>\n",
       "      <td>2016-07-14</td>\n",
       "      <td>13.586864</td>\n",
       "      <td>12.878491</td>\n",
       "    </tr>\n",
       "    <tr>\n",
       "      <th>2</th>\n",
       "      <td>2016-07-08</td>\n",
       "      <td>2016-07-15</td>\n",
       "      <td>13.596818</td>\n",
       "      <td>12.960193</td>\n",
       "    </tr>\n",
       "    <tr>\n",
       "      <th>3</th>\n",
       "      <td>2016-07-11</td>\n",
       "      <td>2016-07-18</td>\n",
       "      <td>14.044736</td>\n",
       "      <td>12.949732</td>\n",
       "    </tr>\n",
       "    <tr>\n",
       "      <th>4</th>\n",
       "      <td>2016-07-12</td>\n",
       "      <td>2016-07-19</td>\n",
       "      <td>14.194043</td>\n",
       "      <td>13.270362</td>\n",
       "    </tr>\n",
       "  </tbody>\n",
       "</table>\n",
       "</div>"
      ],
      "text/plain": [
       "       index future_date  future_price  predicted_price\n",
       "0 2016-07-06  2016-07-13     13.377835        12.806325\n",
       "1 2016-07-07  2016-07-14     13.586864        12.878491\n",
       "2 2016-07-08  2016-07-15     13.596818        12.960193\n",
       "3 2016-07-11  2016-07-18     14.044736        12.949732\n",
       "4 2016-07-12  2016-07-19     14.194043        13.270362"
      ]
     },
     "execution_count": 37,
     "metadata": {},
     "output_type": "execute_result"
    }
   ],
   "source": [
    "# Plotting graph with x=\"future_date\", and y = [\"future_price\",\"prediction_close\"]\n",
    "df = prod_data[['future_date','future_price','predicted_price']]\n",
    "df = df.reset_index()\n",
    "df.head()"
   ]
  },
  {
   "cell_type": "code",
   "execution_count": 38,
   "metadata": {
    "collapsed": false
   },
   "outputs": [
    {
     "data": {
      "text/html": [
       "<div>\n",
       "<table border=\"1\" class=\"dataframe\">\n",
       "  <thead>\n",
       "    <tr style=\"text-align: right;\">\n",
       "      <th></th>\n",
       "      <th>index</th>\n",
       "      <th>future_price</th>\n",
       "      <th>predicted_price</th>\n",
       "    </tr>\n",
       "    <tr>\n",
       "      <th>future_date</th>\n",
       "      <th></th>\n",
       "      <th></th>\n",
       "      <th></th>\n",
       "    </tr>\n",
       "  </thead>\n",
       "  <tbody>\n",
       "    <tr>\n",
       "      <th>2016-07-13</th>\n",
       "      <td>2016-07-06</td>\n",
       "      <td>13.377835</td>\n",
       "      <td>12.806325</td>\n",
       "    </tr>\n",
       "    <tr>\n",
       "      <th>2016-07-14</th>\n",
       "      <td>2016-07-07</td>\n",
       "      <td>13.586864</td>\n",
       "      <td>12.878491</td>\n",
       "    </tr>\n",
       "    <tr>\n",
       "      <th>2016-07-15</th>\n",
       "      <td>2016-07-08</td>\n",
       "      <td>13.596818</td>\n",
       "      <td>12.960193</td>\n",
       "    </tr>\n",
       "    <tr>\n",
       "      <th>2016-07-18</th>\n",
       "      <td>2016-07-11</td>\n",
       "      <td>14.044736</td>\n",
       "      <td>12.949732</td>\n",
       "    </tr>\n",
       "    <tr>\n",
       "      <th>2016-07-19</th>\n",
       "      <td>2016-07-12</td>\n",
       "      <td>14.194043</td>\n",
       "      <td>13.270362</td>\n",
       "    </tr>\n",
       "  </tbody>\n",
       "</table>\n",
       "</div>"
      ],
      "text/plain": [
       "                 index  future_price  predicted_price\n",
       "future_date                                          \n",
       "2016-07-13  2016-07-06     13.377835        12.806325\n",
       "2016-07-14  2016-07-07     13.586864        12.878491\n",
       "2016-07-15  2016-07-08     13.596818        12.960193\n",
       "2016-07-18  2016-07-11     14.044736        12.949732\n",
       "2016-07-19  2016-07-12     14.194043        13.270362"
      ]
     },
     "execution_count": 38,
     "metadata": {},
     "output_type": "execute_result"
    }
   ],
   "source": [
    "df = df.set_index('future_date')\n",
    "df.head()"
   ]
  },
  {
   "cell_type": "code",
   "execution_count": 39,
   "metadata": {
    "collapsed": false
   },
   "outputs": [
    {
     "data": {
      "text/plain": [
       "[<matplotlib.lines.Line2D at 0x7fcd395f3810>]"
      ]
     },
     "execution_count": 39,
     "metadata": {},
     "output_type": "execute_result"
    },
    {
     "data": {
      "image/png": "[encoded data removed]",
      "text/plain": [
       "<matplotlib.figure.Figure at 0x7fcd39698fd0>"
      ]
     },
     "metadata": {},
     "output_type": "display_data"
    }
   ],
   "source": [
    "# Plot of entire data\n",
    "sns.plt.plot(master_stock_data['close'])"
   ]
  },
  {
   "cell_type": "code",
   "execution_count": 40,
   "metadata": {
    "collapsed": false
   },
   "outputs": [
    {
     "data": {
      "text/plain": [
       "<matplotlib.legend.Legend at 0x7fcd39630d90>"
      ]
     },
     "execution_count": 40,
     "metadata": {},
     "output_type": "execute_result"
    },
    {
     "data": {
      "image/png": "[encoded data removed]",
      "text/plain": [
       "<matplotlib.figure.Figure at 0x7fcd395f3890>"
      ]
     },
     "metadata": {},
     "output_type": "display_data"
    }
   ],
   "source": [
    "fig, ax = plt.subplots(figsize=(11,8))\n",
    "ax.plot(prod_data.index, prod_data.future_price, label='Future_price_5_days')\n",
    "ax.plot(prod_data.index, prod_data.predicted_price, label='Predicted_price')\n",
    "ax.set_ylabel(\"BAC Stock price($)\")\n",
    "ax.legend()"
   ]
  },
  {
   "cell_type": "code",
   "execution_count": 41,
   "metadata": {
    "collapsed": false
   },
   "outputs": [],
   "source": [
    "feature_importances= pd.DataFrame(zip(prod_X.columns.tolist(),mult_linreg1.coef_), columns=[\"Features\",\"Coefficient\"])"
   ]
  },
  {
   "cell_type": "code",
   "execution_count": 42,
   "metadata": {
    "collapsed": false
   },
   "outputs": [],
   "source": [
    "feature_importances.sort_values(\"Coefficient\",inplace=True, ascending=False)"
   ]
  },
  {
   "cell_type": "code",
   "execution_count": 43,
   "metadata": {
    "collapsed": false
   },
   "outputs": [
    {
     "data": {
      "text/html": [
       "<div>\n",
       "<table border=\"1\" class=\"dataframe\">\n",
       "  <thead>\n",
       "    <tr style=\"text-align: right;\">\n",
       "      <th></th>\n",
       "      <th>Features</th>\n",
       "      <th>Coefficient</th>\n",
       "    </tr>\n",
       "  </thead>\n",
       "  <tbody>\n",
       "    <tr>\n",
       "      <th>0</th>\n",
       "      <td>scaled_close</td>\n",
       "      <td>7.453255</td>\n",
       "    </tr>\n",
       "    <tr>\n",
       "      <th>10</th>\n",
       "      <td>scaled_lower_bollinger_band</td>\n",
       "      <td>1.600006</td>\n",
       "    </tr>\n",
       "    <tr>\n",
       "      <th>7</th>\n",
       "      <td>scaled_rolling_mean</td>\n",
       "      <td>1.589003</td>\n",
       "    </tr>\n",
       "    <tr>\n",
       "      <th>9</th>\n",
       "      <td>scaled_upper_bollinger_band</td>\n",
       "      <td>1.571377</td>\n",
       "    </tr>\n",
       "    <tr>\n",
       "      <th>6</th>\n",
       "      <td>scaled_daily_return</td>\n",
       "      <td>0.079982</td>\n",
       "    </tr>\n",
       "    <tr>\n",
       "      <th>1</th>\n",
       "      <td>scaled_vol</td>\n",
       "      <td>0.026802</td>\n",
       "    </tr>\n",
       "    <tr>\n",
       "      <th>5</th>\n",
       "      <td>scaled_put_call_ratio</td>\n",
       "      <td>0.022591</td>\n",
       "    </tr>\n",
       "    <tr>\n",
       "      <th>3</th>\n",
       "      <td>scaled_vol_SPY</td>\n",
       "      <td>0.002388</td>\n",
       "    </tr>\n",
       "    <tr>\n",
       "      <th>8</th>\n",
       "      <td>scaled_rolling_sd</td>\n",
       "      <td>-0.003393</td>\n",
       "    </tr>\n",
       "    <tr>\n",
       "      <th>2</th>\n",
       "      <td>scaled_close_SPY</td>\n",
       "      <td>-0.102142</td>\n",
       "    </tr>\n",
       "    <tr>\n",
       "      <th>4</th>\n",
       "      <td>scaled_VIX_close</td>\n",
       "      <td>-0.187893</td>\n",
       "    </tr>\n",
       "  </tbody>\n",
       "</table>\n",
       "</div>"
      ],
      "text/plain": [
       "                       Features  Coefficient\n",
       "0                  scaled_close     7.453255\n",
       "10  scaled_lower_bollinger_band     1.600006\n",
       "7           scaled_rolling_mean     1.589003\n",
       "9   scaled_upper_bollinger_band     1.571377\n",
       "6           scaled_daily_return     0.079982\n",
       "1                    scaled_vol     0.026802\n",
       "5         scaled_put_call_ratio     0.022591\n",
       "3                scaled_vol_SPY     0.002388\n",
       "8             scaled_rolling_sd    -0.003393\n",
       "2              scaled_close_SPY    -0.102142\n",
       "4              scaled_VIX_close    -0.187893"
      ]
     },
     "execution_count": 43,
     "metadata": {},
     "output_type": "execute_result"
    }
   ],
   "source": [
    "feature_importances"
   ]
  },
  {
   "cell_type": "code",
   "execution_count": null,
   "metadata": {
    "collapsed": false
   },
   "outputs": [],
   "source": []
  },
  {
   "cell_type": "code",
   "execution_count": null,
   "metadata": {
    "collapsed": true
   },
   "outputs": [],
   "source": []
  }
 ],
 "metadata": {
  "anaconda-cloud": {},
  "kernelspec": {
   "display_name": "Python [default]",
   "language": "python",
   "name": "python2"
  },
  "language_info": {
   "codemirror_mode": {
    "name": "ipython",
    "version": 2
   },
   "file_extension": ".py",
   "mimetype": "text/x-python",
   "name": "python",
   "nbconvert_exporter": "python",
   "pygments_lexer": "ipython2",
   "version": "2.7.12"
  }
 },
 "nbformat": 4,
 "nbformat_minor": 1
}
